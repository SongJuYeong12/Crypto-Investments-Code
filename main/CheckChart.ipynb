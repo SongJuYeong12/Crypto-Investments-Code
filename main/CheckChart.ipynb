{
 "cells": [
  {
   "cell_type": "code",
   "execution_count": 1,
   "metadata": {},
   "outputs": [],
   "source": [
    "from DataDownCode.GetChartData import *\n",
    "from DataProcessing.DataCheck import *\n",
    "from DataProcessing.chartProcessing import *"
   ]
  },
  {
   "cell_type": "code",
   "execution_count": 2,
   "metadata": {},
   "outputs": [],
   "source": [
    "candleMin = 10\n",
    "marketCode = 'KRW-G'\n",
    "stTime = 'starting'\n",
    "edTime = 'present'\n",
    "\n",
    "Chart_Data = get_chart(candleMin, marketCode, stTime, edTime)"
   ]
  },
  {
   "cell_type": "code",
   "execution_count": 3,
   "metadata": {},
   "outputs": [
    {
     "name": "stderr",
     "output_type": "stream",
     "text": [
      "c:\\Users\\sailo\\OneDrive\\문서\\가상화폐 차트 데이터 분석\\chart analysis code\\DataProcessing\\DataCheck.py:36: SettingWithCopyWarning: \n",
      "A value is trying to be set on a copy of a slice from a DataFrame\n",
      "\n",
      "See the caveats in the documentation: https://pandas.pydata.org/pandas-docs/stable/user_guide/indexing.html#returning-a-view-versus-a-copy\n",
      "  invalid_rows.drop(invalid_rows.index[-1], axis=0, inplace=True)\n"
     ]
    }
   ],
   "source": [
    "check_sort = check_decreas_sort(Chart_Data)\n",
    "Chart_Data = check_last_time(Chart_Data, stTime)\n",
    "invalid_rows = check_timedelta(Chart_Data, candleMin)"
   ]
  },
  {
   "cell_type": "code",
   "execution_count": 4,
   "metadata": {},
   "outputs": [
    {
     "name": "stdout",
     "output_type": "stream",
     "text": [
      "True\n",
      "                    time       timedelta\n",
      "212  2024-09-21 06:10:00 0 days 00:20:00\n",
      "221  2024-09-21 04:30:00 0 days 00:20:00\n",
      "937  2024-09-16 05:00:00 0 days 00:20:00\n",
      "1371 2024-09-13 04:30:00 0 days 00:20:00\n",
      "2096 2024-09-08 03:30:00 0 days 00:20:00\n",
      "2379 2024-09-06 04:10:00 0 days 00:30:00\n",
      "2384 2024-09-06 03:00:00 0 days 00:20:00\n",
      "2516 2024-09-05 04:50:00 0 days 00:30:00\n",
      "2522 2024-09-05 03:30:00 0 days 00:20:00\n",
      "2656 2024-09-04 05:00:00 0 days 00:20:00\n",
      "2740 2024-09-03 14:50:00 0 days 00:20:00\n",
      "2800 2024-09-03 04:40:00 0 days 00:20:00\n",
      "2801 2024-09-03 04:20:00 0 days 00:30:00\n",
      "2802 2024-09-03 03:50:00 0 days 00:20:00\n",
      "2940 2024-09-02 04:40:00 0 days 00:20:00\n",
      "3224 2024-08-31 05:10:00 0 days 00:20:00\n",
      "3956 2024-08-26 03:00:00 0 days 00:20:00\n",
      "9493 2024-07-18 16:00:00 0 days 02:00:00\n"
     ]
    }
   ],
   "source": [
    "print(check_sort)\n",
    "print(invalid_rows)"
   ]
  },
  {
   "cell_type": "code",
   "execution_count": 5,
   "metadata": {},
   "outputs": [],
   "source": [
    "Chart_Data = Chart_Data.sort_index(ascending=False).reset_index(drop=True)"
   ]
  },
  {
   "cell_type": "code",
   "execution_count": 8,
   "metadata": {},
   "outputs": [
    {
     "data": {
      "text/html": [
       "<div>\n",
       "<style scoped>\n",
       "    .dataframe tbody tr th:only-of-type {\n",
       "        vertical-align: middle;\n",
       "    }\n",
       "\n",
       "    .dataframe tbody tr th {\n",
       "        vertical-align: top;\n",
       "    }\n",
       "\n",
       "    .dataframe thead th {\n",
       "        text-align: right;\n",
       "    }\n",
       "</style>\n",
       "<table border=\"1\" class=\"dataframe\">\n",
       "  <thead>\n",
       "    <tr style=\"text-align: right;\">\n",
       "      <th></th>\n",
       "      <th>time</th>\n",
       "      <th>open</th>\n",
       "      <th>close</th>\n",
       "      <th>high</th>\n",
       "      <th>low</th>\n",
       "      <th>volumn</th>\n",
       "    </tr>\n",
       "  </thead>\n",
       "  <tbody>\n",
       "    <tr>\n",
       "      <th>220</th>\n",
       "      <td>2024-07-13 00:40:00</td>\n",
       "      <td>55.083333</td>\n",
       "      <td>55.250000</td>\n",
       "      <td>55.483333</td>\n",
       "      <td>54.966667</td>\n",
       "      <td>967725</td>\n",
       "    </tr>\n",
       "    <tr>\n",
       "      <th>221</th>\n",
       "      <td>2024-07-13 00:50:00</td>\n",
       "      <td>55.250000</td>\n",
       "      <td>55.250000</td>\n",
       "      <td>55.383333</td>\n",
       "      <td>55.150000</td>\n",
       "      <td>390808</td>\n",
       "    </tr>\n",
       "    <tr>\n",
       "      <th>222</th>\n",
       "      <td>2024-07-13 01:00:00</td>\n",
       "      <td>55.216667</td>\n",
       "      <td>54.883333</td>\n",
       "      <td>55.250000</td>\n",
       "      <td>54.883333</td>\n",
       "      <td>495424</td>\n",
       "    </tr>\n",
       "    <tr>\n",
       "      <th>223</th>\n",
       "      <td>2024-07-13 01:10:00</td>\n",
       "      <td>54.883333</td>\n",
       "      <td>54.866667</td>\n",
       "      <td>55.016667</td>\n",
       "      <td>54.866667</td>\n",
       "      <td>733723</td>\n",
       "    </tr>\n",
       "    <tr>\n",
       "      <th>224</th>\n",
       "      <td>2024-07-13 01:20:00</td>\n",
       "      <td>54.866667</td>\n",
       "      <td>55.050000</td>\n",
       "      <td>55.050000</td>\n",
       "      <td>54.866667</td>\n",
       "      <td>740724</td>\n",
       "    </tr>\n",
       "    <tr>\n",
       "      <th>225</th>\n",
       "      <td>2024-07-13 01:30:00</td>\n",
       "      <td>55.066667</td>\n",
       "      <td>55.033333</td>\n",
       "      <td>55.166667</td>\n",
       "      <td>54.916667</td>\n",
       "      <td>1543966</td>\n",
       "    </tr>\n",
       "    <tr>\n",
       "      <th>226</th>\n",
       "      <td>2024-07-13 01:40:00</td>\n",
       "      <td>55.083333</td>\n",
       "      <td>55.000000</td>\n",
       "      <td>55.116667</td>\n",
       "      <td>54.900000</td>\n",
       "      <td>1311860</td>\n",
       "    </tr>\n",
       "    <tr>\n",
       "      <th>227</th>\n",
       "      <td>2024-07-13 01:50:00</td>\n",
       "      <td>54.966667</td>\n",
       "      <td>55.416667</td>\n",
       "      <td>55.416667</td>\n",
       "      <td>54.883333</td>\n",
       "      <td>421804</td>\n",
       "    </tr>\n",
       "    <tr>\n",
       "      <th>228</th>\n",
       "      <td>2024-07-13 02:00:00</td>\n",
       "      <td>55.416667</td>\n",
       "      <td>54.966667</td>\n",
       "      <td>55.416667</td>\n",
       "      <td>54.966667</td>\n",
       "      <td>628554</td>\n",
       "    </tr>\n",
       "    <tr>\n",
       "      <th>229</th>\n",
       "      <td>2024-07-13 02:10:00</td>\n",
       "      <td>54.983333</td>\n",
       "      <td>54.966667</td>\n",
       "      <td>55.166667</td>\n",
       "      <td>54.966667</td>\n",
       "      <td>322615</td>\n",
       "    </tr>\n",
       "  </tbody>\n",
       "</table>\n",
       "</div>"
      ],
      "text/plain": [
       "                   time       open      close       high        low   volumn\n",
       "220 2024-07-13 00:40:00  55.083333  55.250000  55.483333  54.966667   967725\n",
       "221 2024-07-13 00:50:00  55.250000  55.250000  55.383333  55.150000   390808\n",
       "222 2024-07-13 01:00:00  55.216667  54.883333  55.250000  54.883333   495424\n",
       "223 2024-07-13 01:10:00  54.883333  54.866667  55.016667  54.866667   733723\n",
       "224 2024-07-13 01:20:00  54.866667  55.050000  55.050000  54.866667   740724\n",
       "225 2024-07-13 01:30:00  55.066667  55.033333  55.166667  54.916667  1543966\n",
       "226 2024-07-13 01:40:00  55.083333  55.000000  55.116667  54.900000  1311860\n",
       "227 2024-07-13 01:50:00  54.966667  55.416667  55.416667  54.883333   421804\n",
       "228 2024-07-13 02:00:00  55.416667  54.966667  55.416667  54.966667   628554\n",
       "229 2024-07-13 02:10:00  54.983333  54.966667  55.166667  54.966667   322615"
      ]
     },
     "execution_count": 8,
     "metadata": {},
     "output_type": "execute_result"
    }
   ],
   "source": [
    "Chart_Data.iloc[220:230]"
   ]
  },
  {
   "cell_type": "code",
   "execution_count": 7,
   "metadata": {},
   "outputs": [
    {
     "name": "stderr",
     "output_type": "stream",
     "text": [
      "c:\\Users\\sailo\\OneDrive\\문서\\chart analysis code\\DataProcessing\\chartProcessing.py:18: SettingWithCopyWarning: \n",
      "A value is trying to be set on a copy of a slice from a DataFrame\n",
      "\n",
      "See the caveats in the documentation: https://pandas.pydata.org/pandas-docs/stable/user_guide/indexing.html#returning-a-view-versus-a-copy\n",
      "  chart.iloc[0] = [open, close, high, low]\n",
      "c:\\Users\\sailo\\OneDrive\\문서\\chart analysis code\\DataProcessing\\chartProcessing.py:29: SettingWithCopyWarning: \n",
      "A value is trying to be set on a copy of a slice from a DataFrame\n",
      "\n",
      "See the caveats in the documentation: https://pandas.pydata.org/pandas-docs/stable/user_guide/indexing.html#returning-a-view-versus-a-copy\n",
      "  chart.iloc[num] = [open, close, high, low]\n",
      "c:\\Users\\sailo\\OneDrive\\문서\\chart analysis code\\DataProcessing\\chartProcessing.py:59: SettingWithCopyWarning: \n",
      "A value is trying to be set on a copy of a slice from a DataFrame.\n",
      "Try using .loc[row_indexer,col_indexer] = value instead\n",
      "\n",
      "See the caveats in the documentation: https://pandas.pydata.org/pandas-docs/stable/user_guide/indexing.html#returning-a-view-versus-a-copy\n",
      "  chart['color'] = np.select(conditions, choices, default='unknown')\n"
     ]
    }
   ],
   "source": [
    "hikin = trans_hikinAshi(Chart_Data)\n",
    "hikin = create_color_twice(hikin)\n",
    "chartData = pd.concat([Chart_Data[['open', 'close', 'high', 'low']], hikin['color']], axis=1)"
   ]
  },
  {
   "cell_type": "code",
   "execution_count": 18,
   "metadata": {},
   "outputs": [
    {
     "data": {
      "text/html": [
       "<div>\n",
       "<style scoped>\n",
       "    .dataframe tbody tr th:only-of-type {\n",
       "        vertical-align: middle;\n",
       "    }\n",
       "\n",
       "    .dataframe tbody tr th {\n",
       "        vertical-align: top;\n",
       "    }\n",
       "\n",
       "    .dataframe thead th {\n",
       "        text-align: right;\n",
       "    }\n",
       "</style>\n",
       "<table border=\"1\" class=\"dataframe\">\n",
       "  <thead>\n",
       "    <tr style=\"text-align: right;\">\n",
       "      <th></th>\n",
       "      <th>open</th>\n",
       "      <th>close</th>\n",
       "      <th>high</th>\n",
       "      <th>low</th>\n",
       "      <th>color</th>\n",
       "      <th>group</th>\n",
       "    </tr>\n",
       "  </thead>\n",
       "  <tbody>\n",
       "    <tr>\n",
       "      <th>94</th>\n",
       "      <td>58.666667</td>\n",
       "      <td>58.500000</td>\n",
       "      <td>58.666667</td>\n",
       "      <td>58.166667</td>\n",
       "      <td>red</td>\n",
       "      <td>30</td>\n",
       "    </tr>\n",
       "    <tr>\n",
       "      <th>95</th>\n",
       "      <td>58.516667</td>\n",
       "      <td>58.750000</td>\n",
       "      <td>58.866667</td>\n",
       "      <td>58.350000</td>\n",
       "      <td>blue</td>\n",
       "      <td>31</td>\n",
       "    </tr>\n",
       "    <tr>\n",
       "      <th>96</th>\n",
       "      <td>58.750000</td>\n",
       "      <td>58.466667</td>\n",
       "      <td>58.850000</td>\n",
       "      <td>58.333333</td>\n",
       "      <td>blue</td>\n",
       "      <td>31</td>\n",
       "    </tr>\n",
       "  </tbody>\n",
       "</table>\n",
       "</div>"
      ],
      "text/plain": [
       "         open      close       high        low color  group\n",
       "94  58.666667  58.500000  58.666667  58.166667   red     30\n",
       "95  58.516667  58.750000  58.866667  58.350000  blue     31\n",
       "96  58.750000  58.466667  58.850000  58.333333  blue     31"
      ]
     },
     "execution_count": 18,
     "metadata": {},
     "output_type": "execute_result"
    }
   ],
   "source": [
    "chartData.iloc[94:97]"
   ]
  },
  {
   "cell_type": "code",
   "execution_count": 8,
   "metadata": {},
   "outputs": [],
   "source": [
    "minmax = filter_dataframe(chartData)\n",
    "delta = create_diff(minmax)"
   ]
  },
  {
   "cell_type": "code",
   "execution_count": 20,
   "metadata": {},
   "outputs": [
    {
     "data": {
      "text/html": [
       "<div>\n",
       "<style scoped>\n",
       "    .dataframe tbody tr th:only-of-type {\n",
       "        vertical-align: middle;\n",
       "    }\n",
       "\n",
       "    .dataframe tbody tr th {\n",
       "        vertical-align: top;\n",
       "    }\n",
       "\n",
       "    .dataframe thead th {\n",
       "        text-align: right;\n",
       "    }\n",
       "</style>\n",
       "<table border=\"1\" class=\"dataframe\">\n",
       "  <thead>\n",
       "    <tr style=\"text-align: right;\">\n",
       "      <th></th>\n",
       "      <th>time</th>\n",
       "      <th>price</th>\n",
       "      <th>time_diff</th>\n",
       "      <th>price_rate</th>\n",
       "    </tr>\n",
       "  </thead>\n",
       "  <tbody>\n",
       "    <tr>\n",
       "      <th>130</th>\n",
       "      <td>399</td>\n",
       "      <td>55.166667</td>\n",
       "      <td>4</td>\n",
       "      <td>-0.5</td>\n",
       "    </tr>\n",
       "    <tr>\n",
       "      <th>131</th>\n",
       "      <td>400</td>\n",
       "      <td>55.150000</td>\n",
       "      <td>1</td>\n",
       "      <td>-0.0</td>\n",
       "    </tr>\n",
       "    <tr>\n",
       "      <th>132</th>\n",
       "      <td>401</td>\n",
       "      <td>55.133333</td>\n",
       "      <td>1</td>\n",
       "      <td>-0.0</td>\n",
       "    </tr>\n",
       "  </tbody>\n",
       "</table>\n",
       "</div>"
      ],
      "text/plain": [
       "     time      price  time_diff  price_rate\n",
       "130   399  55.166667          4        -0.5\n",
       "131   400  55.150000          1        -0.0\n",
       "132   401  55.133333          1        -0.0"
      ]
     },
     "execution_count": 20,
     "metadata": {},
     "output_type": "execute_result"
    }
   ],
   "source": [
    "delta.iloc[130:133]"
   ]
  },
  {
   "cell_type": "code",
   "execution_count": 31,
   "metadata": {},
   "outputs": [],
   "source": [
    "test = delta.copy()"
   ]
  },
  {
   "cell_type": "code",
   "execution_count": 32,
   "metadata": {},
   "outputs": [
    {
     "data": {
      "text/html": [
       "<div>\n",
       "<style scoped>\n",
       "    .dataframe tbody tr th:only-of-type {\n",
       "        vertical-align: middle;\n",
       "    }\n",
       "\n",
       "    .dataframe tbody tr th {\n",
       "        vertical-align: top;\n",
       "    }\n",
       "\n",
       "    .dataframe thead th {\n",
       "        text-align: right;\n",
       "    }\n",
       "</style>\n",
       "<table border=\"1\" class=\"dataframe\">\n",
       "  <thead>\n",
       "    <tr style=\"text-align: right;\">\n",
       "      <th></th>\n",
       "      <th>time</th>\n",
       "      <th>price</th>\n",
       "      <th>time_diff</th>\n",
       "      <th>price_rate</th>\n",
       "    </tr>\n",
       "  </thead>\n",
       "  <tbody>\n",
       "    <tr>\n",
       "      <th>0</th>\n",
       "      <td>0</td>\n",
       "      <td>47.166667</td>\n",
       "      <td>0</td>\n",
       "      <td>0.0</td>\n",
       "    </tr>\n",
       "    <tr>\n",
       "      <th>1</th>\n",
       "      <td>3</td>\n",
       "      <td>64.916667</td>\n",
       "      <td>3</td>\n",
       "      <td>37.6</td>\n",
       "    </tr>\n",
       "    <tr>\n",
       "      <th>2</th>\n",
       "      <td>12</td>\n",
       "      <td>59.300000</td>\n",
       "      <td>9</td>\n",
       "      <td>-8.7</td>\n",
       "    </tr>\n",
       "    <tr>\n",
       "      <th>3</th>\n",
       "      <td>14</td>\n",
       "      <td>59.833333</td>\n",
       "      <td>2</td>\n",
       "      <td>0.9</td>\n",
       "    </tr>\n",
       "    <tr>\n",
       "      <th>4</th>\n",
       "      <td>15</td>\n",
       "      <td>59.266667</td>\n",
       "      <td>1</td>\n",
       "      <td>-0.9</td>\n",
       "    </tr>\n",
       "    <tr>\n",
       "      <th>...</th>\n",
       "      <td>...</td>\n",
       "      <td>...</td>\n",
       "      <td>...</td>\n",
       "      <td>...</td>\n",
       "    </tr>\n",
       "    <tr>\n",
       "      <th>861</th>\n",
       "      <td>3149</td>\n",
       "      <td>63.660000</td>\n",
       "      <td>3</td>\n",
       "      <td>1.9</td>\n",
       "    </tr>\n",
       "    <tr>\n",
       "      <th>862</th>\n",
       "      <td>3159</td>\n",
       "      <td>62.060000</td>\n",
       "      <td>10</td>\n",
       "      <td>-2.5</td>\n",
       "    </tr>\n",
       "    <tr>\n",
       "      <th>863</th>\n",
       "      <td>3161</td>\n",
       "      <td>62.220000</td>\n",
       "      <td>2</td>\n",
       "      <td>0.3</td>\n",
       "    </tr>\n",
       "    <tr>\n",
       "      <th>864</th>\n",
       "      <td>3162</td>\n",
       "      <td>62.100000</td>\n",
       "      <td>1</td>\n",
       "      <td>-0.2</td>\n",
       "    </tr>\n",
       "    <tr>\n",
       "      <th>865</th>\n",
       "      <td>3163</td>\n",
       "      <td>62.340000</td>\n",
       "      <td>1</td>\n",
       "      <td>0.4</td>\n",
       "    </tr>\n",
       "  </tbody>\n",
       "</table>\n",
       "<p>866 rows × 4 columns</p>\n",
       "</div>"
      ],
      "text/plain": [
       "     time      price  time_diff  price_rate\n",
       "0       0  47.166667          0         0.0\n",
       "1       3  64.916667          3        37.6\n",
       "2      12  59.300000          9        -8.7\n",
       "3      14  59.833333          2         0.9\n",
       "4      15  59.266667          1        -0.9\n",
       "..    ...        ...        ...         ...\n",
       "861  3149  63.660000          3         1.9\n",
       "862  3159  62.060000         10        -2.5\n",
       "863  3161  62.220000          2         0.3\n",
       "864  3162  62.100000          1        -0.2\n",
       "865  3163  62.340000          1         0.4\n",
       "\n",
       "[866 rows x 4 columns]"
      ]
     },
     "execution_count": 32,
     "metadata": {},
     "output_type": "execute_result"
    }
   ],
   "source": [
    "test"
   ]
  },
  {
   "cell_type": "code",
   "execution_count": 40,
   "metadata": {},
   "outputs": [],
   "source": [
    "test['time_diff'] = test['time_diff'].abs().sort_values(ascending=False)"
   ]
  },
  {
   "cell_type": "code",
   "execution_count": 39,
   "metadata": {},
   "outputs": [],
   "source": [
    "test['price_rate'] = test['price_rate'].abs().sort_values(ascending=False)"
   ]
  },
  {
   "cell_type": "code",
   "execution_count": 38,
   "metadata": {},
   "outputs": [
    {
     "data": {
      "image/png": "[encoded data removed]",
      "text/plain": [
       "<Figure size 3000x1000 with 1 Axes>"
      ]
     },
     "metadata": {},
     "output_type": "display_data"
    }
   ],
   "source": [
    "import matplotlib.pyplot as plt\n",
    "import seaborn as sns\n",
    "\n",
    "# countplot을 그릴 열을 지정합니다.\n",
    "column_name = 'price_rate'\n",
    "\n",
    "# seaborn을 사용하여 countplot을 그립니다.\n",
    "plt.figure(figsize=(30, 10))\n",
    "sns.countplot(x=column_name, data=test)\n",
    "plt.title(f'Countplot of {column_name}')\n",
    "plt.xlabel(column_name)\n",
    "plt.ylabel('Count')\n",
    "plt.show()"
   ]
  },
  {
   "cell_type": "code",
   "execution_count": 41,
   "metadata": {},
   "outputs": [
    {
     "data": {
      "image/png": "[encoded data removed]",
      "text/plain": [
       "<Figure size 3000x1000 with 1 Axes>"
      ]
     },
     "metadata": {},
     "output_type": "display_data"
    }
   ],
   "source": [
    "# countplot을 그릴 열을 지정합니다.\n",
    "column_name = 'time_diff'\n",
    "\n",
    "# seaborn을 사용하여 countplot을 그립니다.\n",
    "plt.figure(figsize=(30, 10))\n",
    "sns.countplot(x=column_name, data=test)\n",
    "plt.title(f'Countplot of {column_name}')\n",
    "plt.xlabel(column_name)\n",
    "plt.ylabel('Count')\n",
    "plt.show()"
   ]
  }
 ],
 "metadata": {
  "kernelspec": {
   "display_name": "Python 3",
   "language": "python",
   "name": "python3"
  },
  "language_info": {
   "codemirror_mode": {
    "name": "ipython",
    "version": 3
   },
   "file_extension": ".py",
   "mimetype": "text/x-python",
   "name": "python",
   "nbconvert_exporter": "python",
   "pygments_lexer": "ipython3",
   "version": "3.12.4"
  }
 },
 "nbformat": 4,
 "nbformat_minor": 2
}
